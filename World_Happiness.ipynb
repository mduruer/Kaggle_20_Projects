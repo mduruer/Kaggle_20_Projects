{
 "cells": [
  {
   "cell_type": "markdown",
   "id": "91fd14df",
   "metadata": {},
   "source": [
    "# World_Happiness"
   ]
  },
  {
   "cell_type": "code",
   "execution_count": 1,
   "id": "5d63803c",
   "metadata": {},
   "outputs": [
    {
     "data": {
      "image/png": "[encoded data removed]",
      "text/plain": [
       "<Figure size 700x100 with 1 Axes>"
      ]
     },
     "metadata": {},
     "output_type": "display_data"
    }
   ],
   "source": [
    "import pandas as pd\n",
    "import numpy as np\n",
    "import matplotlib.pyplot as plt\n",
    "import matplotlib.pyplot as plt\n",
    "import matplotlib.gridspec as gs\n",
    "import seaborn as sns\n",
    "\n",
    "#Colors to be used in the plots\n",
    "color=[\"#f94144\",\"#f3722c\",\"#f8961e\",\"#f9c74f\",\"#90be6d\",\"#43aa8b\",\"#577590\"]\n",
    "sns.palplot(color)"
   ]
  },
  {
   "cell_type": "code",
   "execution_count": 72,
   "id": "a2010071",
   "metadata": {},
   "outputs": [],
   "source": [
    "df = pd.read_csv('2022.csv')"
   ]
  },
  {
   "cell_type": "code",
   "execution_count": 73,
   "id": "d11d7f2d",
   "metadata": {},
   "outputs": [
    {
     "data": {
      "text/html": [
       "<div>\n",
       "<style scoped>\n",
       "    .dataframe tbody tr th:only-of-type {\n",
       "        vertical-align: middle;\n",
       "    }\n",
       "\n",
       "    .dataframe tbody tr th {\n",
       "        vertical-align: top;\n",
       "    }\n",
       "\n",
       "    .dataframe thead th {\n",
       "        text-align: right;\n",
       "    }\n",
       "</style>\n",
       "<table border=\"1\" class=\"dataframe\">\n",
       "  <thead>\n",
       "    <tr style=\"text-align: right;\">\n",
       "      <th></th>\n",
       "      <th>RANK</th>\n",
       "      <th>Country</th>\n",
       "      <th>Happiness score</th>\n",
       "      <th>Whisker-high</th>\n",
       "      <th>Whisker-low</th>\n",
       "      <th>Dystopia (1.83) + residual</th>\n",
       "      <th>Explained by: GDP per capita</th>\n",
       "      <th>Explained by: Social support</th>\n",
       "      <th>Explained by: Healthy life expectancy</th>\n",
       "      <th>Explained by: Freedom to make life choices</th>\n",
       "      <th>Explained by: Generosity</th>\n",
       "      <th>Explained by: Perceptions of corruption</th>\n",
       "    </tr>\n",
       "  </thead>\n",
       "  <tbody>\n",
       "    <tr>\n",
       "      <th>0</th>\n",
       "      <td>1</td>\n",
       "      <td>Finland</td>\n",
       "      <td>7,821</td>\n",
       "      <td>7,886</td>\n",
       "      <td>7,756</td>\n",
       "      <td>2,518</td>\n",
       "      <td>1,892</td>\n",
       "      <td>1,258</td>\n",
       "      <td>0,775</td>\n",
       "      <td>0,736</td>\n",
       "      <td>0,109</td>\n",
       "      <td>0,534</td>\n",
       "    </tr>\n",
       "    <tr>\n",
       "      <th>1</th>\n",
       "      <td>2</td>\n",
       "      <td>Denmark</td>\n",
       "      <td>7,636</td>\n",
       "      <td>7,710</td>\n",
       "      <td>7,563</td>\n",
       "      <td>2,226</td>\n",
       "      <td>1,953</td>\n",
       "      <td>1,243</td>\n",
       "      <td>0,777</td>\n",
       "      <td>0,719</td>\n",
       "      <td>0,188</td>\n",
       "      <td>0,532</td>\n",
       "    </tr>\n",
       "    <tr>\n",
       "      <th>2</th>\n",
       "      <td>3</td>\n",
       "      <td>Iceland</td>\n",
       "      <td>7,557</td>\n",
       "      <td>7,651</td>\n",
       "      <td>7,464</td>\n",
       "      <td>2,320</td>\n",
       "      <td>1,936</td>\n",
       "      <td>1,320</td>\n",
       "      <td>0,803</td>\n",
       "      <td>0,718</td>\n",
       "      <td>0,270</td>\n",
       "      <td>0,191</td>\n",
       "    </tr>\n",
       "    <tr>\n",
       "      <th>3</th>\n",
       "      <td>4</td>\n",
       "      <td>Switzerland</td>\n",
       "      <td>7,512</td>\n",
       "      <td>7,586</td>\n",
       "      <td>7,437</td>\n",
       "      <td>2,153</td>\n",
       "      <td>2,026</td>\n",
       "      <td>1,226</td>\n",
       "      <td>0,822</td>\n",
       "      <td>0,677</td>\n",
       "      <td>0,147</td>\n",
       "      <td>0,461</td>\n",
       "    </tr>\n",
       "    <tr>\n",
       "      <th>4</th>\n",
       "      <td>5</td>\n",
       "      <td>Netherlands</td>\n",
       "      <td>7,415</td>\n",
       "      <td>7,471</td>\n",
       "      <td>7,359</td>\n",
       "      <td>2,137</td>\n",
       "      <td>1,945</td>\n",
       "      <td>1,206</td>\n",
       "      <td>0,787</td>\n",
       "      <td>0,651</td>\n",
       "      <td>0,271</td>\n",
       "      <td>0,419</td>\n",
       "    </tr>\n",
       "  </tbody>\n",
       "</table>\n",
       "</div>"
      ],
      "text/plain": [
       "   RANK      Country Happiness score Whisker-high Whisker-low  \\\n",
       "0     1      Finland           7,821        7,886       7,756   \n",
       "1     2      Denmark           7,636        7,710       7,563   \n",
       "2     3      Iceland           7,557        7,651       7,464   \n",
       "3     4  Switzerland           7,512        7,586       7,437   \n",
       "4     5  Netherlands           7,415        7,471       7,359   \n",
       "\n",
       "  Dystopia (1.83) + residual Explained by: GDP per capita  \\\n",
       "0                      2,518                        1,892   \n",
       "1                      2,226                        1,953   \n",
       "2                      2,320                        1,936   \n",
       "3                      2,153                        2,026   \n",
       "4                      2,137                        1,945   \n",
       "\n",
       "  Explained by: Social support Explained by: Healthy life expectancy  \\\n",
       "0                        1,258                                 0,775   \n",
       "1                        1,243                                 0,777   \n",
       "2                        1,320                                 0,803   \n",
       "3                        1,226                                 0,822   \n",
       "4                        1,206                                 0,787   \n",
       "\n",
       "  Explained by: Freedom to make life choices Explained by: Generosity  \\\n",
       "0                                      0,736                    0,109   \n",
       "1                                      0,719                    0,188   \n",
       "2                                      0,718                    0,270   \n",
       "3                                      0,677                    0,147   \n",
       "4                                      0,651                    0,271   \n",
       "\n",
       "  Explained by: Perceptions of corruption  \n",
       "0                                   0,534  \n",
       "1                                   0,532  \n",
       "2                                   0,191  \n",
       "3                                   0,461  \n",
       "4                                   0,419  "
      ]
     },
     "execution_count": 73,
     "metadata": {},
     "output_type": "execute_result"
    }
   ],
   "source": [
    "df.head()"
   ]
  },
  {
   "cell_type": "code",
   "execution_count": 74,
   "id": "ea492bc1",
   "metadata": {},
   "outputs": [
    {
     "name": "stdout",
     "output_type": "stream",
     "text": [
      "<class 'pandas.core.frame.DataFrame'>\n",
      "RangeIndex: 147 entries, 0 to 146\n",
      "Data columns (total 12 columns):\n",
      " #   Column                                      Non-Null Count  Dtype \n",
      "---  ------                                      --------------  ----- \n",
      " 0   RANK                                        147 non-null    int64 \n",
      " 1   Country                                     147 non-null    object\n",
      " 2   Happiness score                             146 non-null    object\n",
      " 3   Whisker-high                                146 non-null    object\n",
      " 4   Whisker-low                                 146 non-null    object\n",
      " 5   Dystopia (1.83) + residual                  146 non-null    object\n",
      " 6   Explained by: GDP per capita                146 non-null    object\n",
      " 7   Explained by: Social support                146 non-null    object\n",
      " 8   Explained by: Healthy life expectancy       146 non-null    object\n",
      " 9   Explained by: Freedom to make life choices  146 non-null    object\n",
      " 10  Explained by: Generosity                    146 non-null    object\n",
      " 11  Explained by: Perceptions of corruption     146 non-null    object\n",
      "dtypes: int64(1), object(11)\n",
      "memory usage: 13.9+ KB\n"
     ]
    }
   ],
   "source": [
    "df.info()"
   ]
  },
  {
   "cell_type": "code",
   "execution_count": 85,
   "id": "1d149a9f",
   "metadata": {},
   "outputs": [
    {
     "data": {
      "text/plain": [
       "Index(['RANK', 'Country', 'Happiness score', 'Whisker-high', 'Whisker-low',\n",
       "       'Dystopia (1.83) + residual', 'Explained by: GDP per capita',\n",
       "       'Explained by: Social support', 'Explained by: Healthy life expectancy',\n",
       "       'Explained by: Freedom to make life choices',\n",
       "       'Explained by: Generosity', 'Explained by: Perceptions of corruption'],\n",
       "      dtype='object')"
      ]
     },
     "execution_count": 85,
     "metadata": {},
     "output_type": "execute_result"
    }
   ],
   "source": [
    "df.columns"
   ]
  },
  {
   "cell_type": "code",
   "execution_count": 86,
   "id": "32f2fe84",
   "metadata": {},
   "outputs": [],
   "source": [
    "df.rename(columns={'Happiness score': 'HappinessScore', 'Dystopia (1.83) + residual': 'DystopiaResidual',\n",
    "                  'Explained by: GDP per capita':'GDPPerCapita',\n",
    "                   'Explained by: Social support':'SocialSupport',\n",
    "                   'Explained by: Healthy life expectancy':'HealthyLifeExpectancy',\n",
    "                   'Explained by: Freedom to make life choices':'FreedomtoMakeLifeChoices',\n",
    "                   'Explained by: Generosity':'Generosity',\n",
    "                   'Explained by: Perceptions of corruption':'PerceptionsofCorruption'\n",
    "                  }, inplace=True)"
   ]
  },
  {
   "cell_type": "code",
   "execution_count": 87,
   "id": "7cf68577",
   "metadata": {},
   "outputs": [
    {
     "data": {
      "text/plain": [
       "Index(['RANK', 'Country', 'HappinessScore', 'Whisker-high', 'Whisker-low',\n",
       "       'DystopiaResidual', 'GDPPerCapita', 'SocialSupport',\n",
       "       'HealthyLifeExpectancy', 'FreedomtoMakeLifeChoices', 'Generosity',\n",
       "       'PerceptionsofCorruption'],\n",
       "      dtype='object')"
      ]
     },
     "execution_count": 87,
     "metadata": {},
     "output_type": "execute_result"
    }
   ],
   "source": [
    "df.columns"
   ]
  },
  {
   "cell_type": "code",
   "execution_count": 88,
   "id": "7b352528",
   "metadata": {},
   "outputs": [
    {
     "name": "stdout",
     "output_type": "stream",
     "text": [
      "<class 'pandas.core.frame.DataFrame'>\n",
      "RangeIndex: 147 entries, 0 to 146\n",
      "Data columns (total 12 columns):\n",
      " #   Column                    Non-Null Count  Dtype  \n",
      "---  ------                    --------------  -----  \n",
      " 0   RANK                      147 non-null    int64  \n",
      " 1   Country                   147 non-null    object \n",
      " 2   HappinessScore            147 non-null    float64\n",
      " 3   Whisker-high              146 non-null    object \n",
      " 4   Whisker-low               146 non-null    object \n",
      " 5   DystopiaResidual          146 non-null    object \n",
      " 6   GDPPerCapita              146 non-null    object \n",
      " 7   SocialSupport             146 non-null    object \n",
      " 8   HealthyLifeExpectancy     146 non-null    object \n",
      " 9   FreedomtoMakeLifeChoices  146 non-null    object \n",
      " 10  Generosity                146 non-null    object \n",
      " 11  PerceptionsofCorruption   146 non-null    object \n",
      "dtypes: float64(1), int64(1), object(10)\n",
      "memory usage: 13.9+ KB\n"
     ]
    }
   ],
   "source": [
    "df.info()"
   ]
  },
  {
   "cell_type": "code",
   "execution_count": 75,
   "id": "19a7016c",
   "metadata": {},
   "outputs": [],
   "source": [
    "df['Happiness score']=df['Happiness score'].str.replace(',','.')\n",
    "df['Happiness score']=df['Happiness score'].astype(float)\n",
    "df['Happiness score'].fillna(df['Happiness score'].mean(),inplace=True)"
   ]
  },
  {
   "cell_type": "code",
   "execution_count": 89,
   "id": "97b9c232",
   "metadata": {},
   "outputs": [],
   "source": [
    "df['Whisker-high']=df['Whisker-high'].str.replace(',','.')\n",
    "df['Whisker-high']=df['Whisker-high'].astype(float)\n",
    "df['Whisker-high'].fillna(df['Whisker-high'].mean(),inplace=True)\n",
    "\n",
    "df['Whisker-low']=df['Whisker-low'].str.replace(',','.')\n",
    "df['Whisker-low']=df['Whisker-low'].astype(float)\n",
    "df['Whisker-low'].fillna(df['Whisker-low'].mean(),inplace=True)\n",
    "\n",
    "df['DystopiaResidual']=df['DystopiaResidual'].str.replace(',','.')\n",
    "df['DystopiaResidual']=df['DystopiaResidual'].astype(float)\n",
    "df['DystopiaResidual'].fillna(df['DystopiaResidual'].mean(),inplace=True)\n",
    "\n",
    "df['GDPPerCapita']=df['GDPPerCapita'].str.replace(',','.')\n",
    "df['GDPPerCapita']=df['GDPPerCapita'].astype(float)\n",
    "df['GDPPerCapita'].fillna(df['GDPPerCapita'].mean(),inplace=True)\n",
    "\n",
    "df['SocialSupport']=df['SocialSupport'].str.replace(',','.')\n",
    "df['SocialSupport']=df['SocialSupport'].astype(float)\n",
    "df['SocialSupport'].fillna(df['SocialSupport'].mean(),inplace=True)\n",
    "\n",
    "df['HealthyLifeExpectancy']=df['HealthyLifeExpectancy'].str.replace(',','.')\n",
    "df['HealthyLifeExpectancy']=df['HealthyLifeExpectancy'].astype(float)\n",
    "df['HealthyLifeExpectancy'].fillna(df['HealthyLifeExpectancy'].mean(),inplace=True)\n",
    "\n",
    "df['FreedomtoMakeLifeChoices']=df['FreedomtoMakeLifeChoices'].str.replace(',','.')\n",
    "df['FreedomtoMakeLifeChoices']=df['FreedomtoMakeLifeChoices'].astype(float)\n",
    "df['FreedomtoMakeLifeChoices'].fillna(df['FreedomtoMakeLifeChoices'].mean(),inplace=True)\n",
    "\n",
    "df['Generosity']=df['Generosity'].str.replace(',','.')\n",
    "df['Generosity']=df['Generosity'].astype(float)\n",
    "df['Generosity'].fillna(df['Generosity'].mean(),inplace=True)\n",
    "\n",
    "df['PerceptionsofCorruption']=df['PerceptionsofCorruption'].str.replace(',','.')\n",
    "df['PerceptionsofCorruption']=df['PerceptionsofCorruption'].astype(float)\n",
    "df['PerceptionsofCorruption'].fillna(df['PerceptionsofCorruption'].mean(),inplace=True)"
   ]
  },
  {
   "cell_type": "code",
   "execution_count": 92,
   "id": "b5e2c0d2",
   "metadata": {},
   "outputs": [
    {
     "name": "stdout",
     "output_type": "stream",
     "text": [
      "<class 'pandas.core.frame.DataFrame'>\n",
      "RangeIndex: 147 entries, 0 to 146\n",
      "Data columns (total 12 columns):\n",
      " #   Column                    Non-Null Count  Dtype  \n",
      "---  ------                    --------------  -----  \n",
      " 0   RANK                      147 non-null    int64  \n",
      " 1   Country                   147 non-null    object \n",
      " 2   HappinessScore            147 non-null    float64\n",
      " 3   Whisker-high              147 non-null    float64\n",
      " 4   Whisker-low               147 non-null    float64\n",
      " 5   DystopiaResidual          147 non-null    float64\n",
      " 6   GDPPerCapita              147 non-null    float64\n",
      " 7   SocialSupport             147 non-null    float64\n",
      " 8   HealthyLifeExpectancy     147 non-null    float64\n",
      " 9   FreedomtoMakeLifeChoices  147 non-null    float64\n",
      " 10  Generosity                147 non-null    float64\n",
      " 11  PerceptionsofCorruption   147 non-null    float64\n",
      "dtypes: float64(10), int64(1), object(1)\n",
      "memory usage: 13.9+ KB\n"
     ]
    }
   ],
   "source": [
    "df.info()"
   ]
  },
  {
   "cell_type": "code",
   "execution_count": 94,
   "id": "86d4ff78",
   "metadata": {},
   "outputs": [
    {
     "data": {
      "image/png": "[encoded data removed]",
      "text/plain": [
       "<Figure size 1500x800 with 2 Axes>"
      ]
     },
     "metadata": {},
     "output_type": "display_data"
    }
   ],
   "source": [
    "#top 5 and bottom 5 countries in 2021 report\n",
    "fig= plt.figure(figsize=(15,8))\n",
    "g=gs.GridSpec(ncols=1, nrows=2, figure=fig)\n",
    "plt.suptitle(\"En mutlu 5 ülke ve en mutsuz 5 ülke\", family='Serif', weight='bold', size=20)\n",
    "ax1=plt.subplot(g[0,0])\n",
    "\n",
    "top_5=df.head(5)\n",
    "bot_5= df.tail(5)\n",
    "ax1=sns.barplot(data=top_5, x=top_5['HappinessScore'],y=top_5['Country'], color=color[4])\n",
    "#ax1.set_xlabel('')\n",
    "ax1.xaxis.set_visible(False)\n",
    "ax1.annotate(\"En mutlu 5 ülke\",xy=(8,2), family='Serif', weight='bold', size=12)\n",
    "ax2=plt.subplot(g[1,0], sharex=ax1)\n",
    "ax2=sns.barplot(data=bot_5, x=bot_5['HappinessScore'],y=bot_5['Country'], color=color[0])\n",
    "ax2.annotate(\"\",xy=(8,2), family='Serif', weight='bold', size=12)\n",
    "for s in ['left','right','top','bottom']:\n",
    "    ax1.spines[s].set_visible(False)\n",
    "    ax2.spines[s].set_visible(False)"
   ]
  },
  {
   "cell_type": "markdown",
   "id": "3ea867ca",
   "metadata": {},
   "source": [
    "# Modeling"
   ]
  },
  {
   "cell_type": "code",
   "execution_count": 95,
   "id": "f6afb3bc",
   "metadata": {},
   "outputs": [],
   "source": [
    "from sklearn.linear_model import LinearRegression #SKLEARN = Science Kit Learn\n",
    "from sklearn.model_selection import train_test_split"
   ]
  },
  {
   "cell_type": "code",
   "execution_count": 100,
   "id": "5b39ad2f",
   "metadata": {},
   "outputs": [],
   "source": [
    "x = df.drop(['Country','HappinessScore'], axis=1)\n",
    "y = df.HappinessScore"
   ]
  },
  {
   "cell_type": "code",
   "execution_count": 101,
   "id": "4fd4fca4",
   "metadata": {},
   "outputs": [
    {
     "data": {
      "text/plain": [
       "((147, 10), (147,))"
      ]
     },
     "execution_count": 101,
     "metadata": {},
     "output_type": "execute_result"
    }
   ],
   "source": [
    "x.shape,y.shape"
   ]
  },
  {
   "cell_type": "code",
   "execution_count": 102,
   "id": "a1569a2b",
   "metadata": {},
   "outputs": [],
   "source": [
    "X_train, X_test, y_train, y_test=train_test_split(x,y,test_size=0.2,random_state=13)"
   ]
  },
  {
   "cell_type": "code",
   "execution_count": 103,
   "id": "2d370de9",
   "metadata": {},
   "outputs": [],
   "source": [
    "from sklearn.linear_model import ElasticNet\n",
    "from sklearn.tree import ExtraTreeRegressor\n",
    "from sklearn.ensemble import GradientBoostingRegressor\n",
    "from xgboost import XGBRegressor\n",
    "from sklearn.metrics import mean_absolute_error\n",
    "from sklearn.linear_model import Ridge,Lasso\n",
    "from sklearn.metrics import mean_squared_error,r2_score"
   ]
  },
  {
   "cell_type": "code",
   "execution_count": 106,
   "id": "3efb7cca",
   "metadata": {},
   "outputs": [],
   "source": [
    "def algo_test(x, y):\n",
    "    \n",
    "    L = LinearRegression()\n",
    "    E = ElasticNet()\n",
    "    R = Ridge()\n",
    "    Lass = Lasso()\n",
    "    ETR = ExtraTreeRegressor()\n",
    "    GBR = GradientBoostingRegressor()\n",
    "    XGBC = XGBRegressor()\n",
    "    \n",
    "    X_train, X_test, y_train, y_test = train_test_split(x, y, test_size = 0.2, random_state=13)\n",
    "    \n",
    "    algos = [L, E, R, Lass, ETR, GBR, XGBC]\n",
    "    algo_names= ['Linear', 'ElasticNet', 'Ridge', 'Lasso', 'Extra Tree', 'Gradient Boosting', 'XGBRegressor']\n",
    "    r_squared = []\n",
    "    rmse = []\n",
    "    mae = []\n",
    "    \n",
    "    result = pd.DataFrame(columns = ['R_Squared', 'RMSE', 'MAE'],\n",
    "                           index = algo_names)\n",
    "    \n",
    "    for algo in algos:\n",
    "        algo.fit(X_train, y_train)\n",
    "        algo.predict(X_test)\n",
    "        \n",
    "        r_squared.append(r2_score(y_test, algo.predict(X_test)))\n",
    "        rmse.append(mean_squared_error(y_test, algo.predict(X_test))**.5)\n",
    "        mae.append(mean_absolute_error(y_test, algo.predict(X_test)))\n",
    "        \n",
    "    result.R_Squared = r_squared\n",
    "    result.RMSE = rmse\n",
    "    result.MAE = mae\n",
    "    \n",
    "    return result.sort_values('R_Squared', ascending=False)"
   ]
  },
  {
   "cell_type": "code",
   "execution_count": 107,
   "id": "0ba0a53e",
   "metadata": {},
   "outputs": [
    {
     "data": {
      "text/html": [
       "<div>\n",
       "<style scoped>\n",
       "    .dataframe tbody tr th:only-of-type {\n",
       "        vertical-align: middle;\n",
       "    }\n",
       "\n",
       "    .dataframe tbody tr th {\n",
       "        vertical-align: top;\n",
       "    }\n",
       "\n",
       "    .dataframe thead th {\n",
       "        text-align: right;\n",
       "    }\n",
       "</style>\n",
       "<table border=\"1\" class=\"dataframe\">\n",
       "  <thead>\n",
       "    <tr style=\"text-align: right;\">\n",
       "      <th></th>\n",
       "      <th>R_Squared</th>\n",
       "      <th>RMSE</th>\n",
       "      <th>MAE</th>\n",
       "    </tr>\n",
       "  </thead>\n",
       "  <tbody>\n",
       "    <tr>\n",
       "      <th>Linear</th>\n",
       "      <td>1.000000</td>\n",
       "      <td>0.000336</td>\n",
       "      <td>0.000273</td>\n",
       "    </tr>\n",
       "    <tr>\n",
       "      <th>Ridge</th>\n",
       "      <td>0.999880</td>\n",
       "      <td>0.012784</td>\n",
       "      <td>0.009087</td>\n",
       "    </tr>\n",
       "    <tr>\n",
       "      <th>Gradient Boosting</th>\n",
       "      <td>0.998273</td>\n",
       "      <td>0.048585</td>\n",
       "      <td>0.033674</td>\n",
       "    </tr>\n",
       "    <tr>\n",
       "      <th>XGBRegressor</th>\n",
       "      <td>0.994645</td>\n",
       "      <td>0.085562</td>\n",
       "      <td>0.066884</td>\n",
       "    </tr>\n",
       "    <tr>\n",
       "      <th>Extra Tree</th>\n",
       "      <td>0.990512</td>\n",
       "      <td>0.113887</td>\n",
       "      <td>0.073233</td>\n",
       "    </tr>\n",
       "    <tr>\n",
       "      <th>ElasticNet</th>\n",
       "      <td>0.968730</td>\n",
       "      <td>0.206755</td>\n",
       "      <td>0.129733</td>\n",
       "    </tr>\n",
       "    <tr>\n",
       "      <th>Lasso</th>\n",
       "      <td>0.967987</td>\n",
       "      <td>0.209196</td>\n",
       "      <td>0.125558</td>\n",
       "    </tr>\n",
       "  </tbody>\n",
       "</table>\n",
       "</div>"
      ],
      "text/plain": [
       "                   R_Squared      RMSE       MAE\n",
       "Linear              1.000000  0.000336  0.000273\n",
       "Ridge               0.999880  0.012784  0.009087\n",
       "Gradient Boosting   0.998273  0.048585  0.033674\n",
       "XGBRegressor        0.994645  0.085562  0.066884\n",
       "Extra Tree          0.990512  0.113887  0.073233\n",
       "ElasticNet          0.968730  0.206755  0.129733\n",
       "Lasso               0.967987  0.209196  0.125558"
      ]
     },
     "execution_count": 107,
     "metadata": {},
     "output_type": "execute_result"
    }
   ],
   "source": [
    "algo_test(x, y)"
   ]
  }
 ],
 "metadata": {
  "kernelspec": {
   "display_name": "Python 3 (ipykernel)",
   "language": "python",
   "name": "python3"
  },
  "language_info": {
   "codemirror_mode": {
    "name": "ipython",
    "version": 3
   },
   "file_extension": ".py",
   "mimetype": "text/x-python",
   "name": "python",
   "nbconvert_exporter": "python",
   "pygments_lexer": "ipython3",
   "version": "3.10.9"
  }
 },
 "nbformat": 4,
 "nbformat_minor": 5
}
