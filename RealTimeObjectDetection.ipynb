{
 "cells": [
  {
   "cell_type": "code",
   "execution_count": 10,
   "id": "32492842",
   "metadata": {},
   "outputs": [],
   "source": [
    "##Kameradan Otomatik Tarayıp Kare içinde Objenin Tanımını Yazmaktadır.\n",
    "## Tek  bir  hareket te bnece Nice Hareket"
   ]
  },
  {
   "cell_type": "code",
   "execution_count": 11,
   "id": "64b1d329",
   "metadata": {},
   "outputs": [],
   "source": [
    "import cv2\n",
    "import cvlib as cv\n",
    "from cvlib.object_detection import draw_bbox # automatic object detection library"
   ]
  },
  {
   "cell_type": "code",
   "execution_count": 12,
   "id": "0730d088",
   "metadata": {},
   "outputs": [
    {
     "name": "stdout",
     "output_type": "stream",
     "text": [
      "Downloading yolov4-tiny.cfg from https://raw.githubusercontent.com/AlexeyAB/darknet/master/cfg/yolov4-tiny.cfg\n"
     ]
    },
    {
     "name": "stderr",
     "output_type": "stream",
     "text": [
      "  0% |                                                                        |\r"
     ]
    },
    {
     "name": "stdout",
     "output_type": "stream",
     "text": [
      "Downloading yolov4-tiny.weights from https://github.com/AlexeyAB/darknet/releases/download/darknet_yolo_v4_pre/yolov4-tiny.weights\n"
     ]
    },
    {
     "name": "stderr",
     "output_type": "stream",
     "text": [
      " 99% |####################################################################### |\r"
     ]
    },
    {
     "name": "stdout",
     "output_type": "stream",
     "text": [
      "Downloading yolov3_classes.txt from https://github.com/arunponnusamy/object-detection-opencv/raw/master/yolov3.txt\n"
     ]
    },
    {
     "name": "stderr",
     "output_type": "stream",
     "text": [
      "100% |                                                                        |\r"
     ]
    }
   ],
   "source": [
    "# Starting Camera\n",
    "cap = cv2.VideoCapture(0)\n",
    "\n",
    "while True:\n",
    "    # read frames\n",
    "    ret, frame = cap.read()\n",
    "\n",
    "    # Object Detection\n",
    "    bbox, label, conf = cv.detect_common_objects(frame, confidence=0.5, model='yolov4-tiny')\n",
    "\n",
    "    # Drow frame around objects\n",
    "    output = draw_bbox(frame, bbox, label, conf)\n",
    "\n",
    "    # show window\n",
    "    cv2.imshow('Object Detection', output)\n",
    "\n",
    "    # q quit\n",
    "    if cv2.waitKey(1) & 0xFF == ord('q'):\n",
    "        break\n",
    "\n",
    "# clear screen\n",
    "cap.release()\n",
    "cv2.destroyAllWindows()"
   ]
  }
 ],
 "metadata": {
  "kernelspec": {
   "display_name": "Python 3 (ipykernel)",
   "language": "python",
   "name": "python3"
  },
  "language_info": {
   "codemirror_mode": {
    "name": "ipython",
    "version": 3
   },
   "file_extension": ".py",
   "mimetype": "text/x-python",
   "name": "python",
   "nbconvert_exporter": "python",
   "pygments_lexer": "ipython3",
   "version": "3.10.9"
  }
 },
 "nbformat": 4,
 "nbformat_minor": 5
}
